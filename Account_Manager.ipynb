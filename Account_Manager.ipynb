{
 "cells": [
  {
   "cell_type": "markdown",
   "metadata": {},
   "source": [
    "#### Step 1: Establish an abstract Account class with features shared by all accounts.\n"
   ]
  },
  {
   "cell_type": "code",
   "execution_count": 2,
   "metadata": {},
   "outputs": [],
   "source": [
    "#Define an abstract class\n",
    "class Account:\n",
    "    def __init__(self, acc_n, open_money):\n",
    "        self.acc_n = acc_n\n",
    "        self.money = open_money\n",
    "        \n",
    "    def __str__(self):\n",
    "        return f\"${self.money:.2f}\"\n",
    "    \n",
    "    def deposit(self, dep_mo):\n",
    "        self.money += dep_mo\n",
    "    \n",
    "    def withdraw(self, wit_mo):\n",
    "        if self. money >= wit_mo:\n",
    "            self.money -= wit_mo\n",
    "        else:\n",
    "            print(\"Not enough money!\")\n",
    "    "
   ]
  },
  {
   "cell_type": "markdown",
   "metadata": {},
   "source": [
    "#### Step 2: Establish a Checking Account class that inherits from Account, and adds Checking-specific traits."
   ]
  },
  {
   "cell_type": "code",
   "execution_count": 3,
   "metadata": {},
   "outputs": [],
   "source": [
    "class Checking(Account):\n",
    "    def __init__(self, acc_n, open_money):\n",
    "        super().__init__(acc_n, open_money)\n",
    "        \n",
    "    def __str__(self):\n",
    "        return f\"Checking Account #{self.acc_n} : ${self.money:.2f}\""
   ]
  },
  {
   "cell_type": "markdown",
   "metadata": {},
   "source": [
    "#### Step 3: TEST setting up a Checking Account object"
   ]
  },
  {
   "cell_type": "code",
   "execution_count": 4,
   "metadata": {},
   "outputs": [],
   "source": [
    "x = Checking(54321,654.33)"
   ]
  },
  {
   "cell_type": "code",
   "execution_count": 5,
   "metadata": {
    "scrolled": true
   },
   "outputs": [
    {
     "name": "stdout",
     "output_type": "stream",
     "text": [
      "Checking Account #54321 : $654.33\n"
     ]
    }
   ],
   "source": [
    "print(x)"
   ]
  },
  {
   "cell_type": "markdown",
   "metadata": {},
   "source": [
    "#### Step 4: Set up similar Savings and Business account classes"
   ]
  },
  {
   "cell_type": "code",
   "execution_count": 6,
   "metadata": {},
   "outputs": [],
   "source": [
    "class Savings(Account):\n",
    "    def __init__(self, acc_n, open_money):\n",
    "        super().__init__(acc_n, open_money)\n",
    "        \n",
    "    def __str__(self):\n",
    "        return f\"Savings Account #{self.acc_n} : ${self.money:.2f}\"\n",
    "\n",
    "class Business(Account):\n",
    "    def __init__(self, acc_n, open_money):\n",
    "        super().__init__(acc_n, open_money)\n",
    "        \n",
    "    def __str__(self):\n",
    "        return f\"Bussiness Account #{self.acc_n} : ${self.money:.2f}\""
   ]
  },
  {
   "cell_type": "markdown",
   "metadata": {},
   "source": [
    "#### Step 5: Create a Customer class\n"
   ]
  },
  {
   "cell_type": "code",
   "execution_count": 7,
   "metadata": {},
   "outputs": [],
   "source": [
    "class Customer:\n",
    "    def __init__(self, name, pin):\n",
    "        self.name = name\n",
    "        self.pin = pin\n",
    "        \n",
    "        self.acc = {\"C\":[], \"S\":[], \"B\":[]}\n",
    "    \n",
    "    def __str__(self):\n",
    "        return f\"My name is {slf.name}\"\n",
    "    \n",
    "    def open_checking(self, acc_n, open_money):\n",
    "        self.acc[\"C\"].append(Checking(acc_n, open_money))\n",
    "\n",
    "    def open_savings(self, acc_n, open_money):\n",
    "        self.acc[\"S\"].append(Savings(acc_n, open_money))\n",
    "    \n",
    "    def open_business(self, acc_n, open_money):\n",
    "        self.acc[\"B\"].append(Business(acc_n, open_money))\n",
    "        \n",
    "    def total_deposits(self):\n",
    "        total = 0\n",
    "        for acc in self.acc[\"C\"]:\n",
    "            total += acc.money\n",
    "            print(acc)\n",
    "        \n",
    "        for acc in self.acc[\"S\"]:\n",
    "            total += acc.money\n",
    "            print(acc)\n",
    "            \n",
    "        for acc in self.acc[\"B\"]:\n",
    "            total += acc.money\n",
    "            print(acc)\n",
    "        \n",
    "        print(f\"total deposit : ${total:.2f}\")"
   ]
  },
  {
   "cell_type": "markdown",
   "metadata": {},
   "source": [
    "#### Step 6: TEST setting up a Customer, adding accounts, and checking balances"
   ]
  },
  {
   "cell_type": "code",
   "execution_count": 8,
   "metadata": {},
   "outputs": [],
   "source": [
    "bob = Customer('Bob',1)"
   ]
  },
  {
   "cell_type": "code",
   "execution_count": 9,
   "metadata": {},
   "outputs": [],
   "source": [
    "bob.open_checking(321,555.55)"
   ]
  },
  {
   "cell_type": "code",
   "execution_count": 10,
   "metadata": {},
   "outputs": [
    {
     "name": "stdout",
     "output_type": "stream",
     "text": [
      "Checking Account #321 : $555.55\n",
      "total deposit : $555.55\n"
     ]
    }
   ],
   "source": [
    "bob.total_deposits()"
   ]
  },
  {
   "cell_type": "code",
   "execution_count": 11,
   "metadata": {},
   "outputs": [],
   "source": [
    "bob.open_savings(564,444.66)"
   ]
  },
  {
   "cell_type": "code",
   "execution_count": 12,
   "metadata": {},
   "outputs": [
    {
     "name": "stdout",
     "output_type": "stream",
     "text": [
      "Checking Account #321 : $555.55\n",
      "Savings Account #564 : $444.66\n",
      "total deposit : $1000.21\n"
     ]
    }
   ],
   "source": [
    "bob.total_deposits()"
   ]
  },
  {
   "cell_type": "code",
   "execution_count": 13,
   "metadata": {},
   "outputs": [],
   "source": [
    "nancy = Customer('Nancy',2)"
   ]
  },
  {
   "cell_type": "code",
   "execution_count": 14,
   "metadata": {},
   "outputs": [],
   "source": [
    "nancy.open_business(2018,8900)"
   ]
  },
  {
   "cell_type": "code",
   "execution_count": 15,
   "metadata": {},
   "outputs": [
    {
     "name": "stdout",
     "output_type": "stream",
     "text": [
      "Bussiness Account #2018 : $8900.00\n",
      "total deposit : $8900.00\n"
     ]
    }
   ],
   "source": [
    "nancy.total_deposits()"
   ]
  },
  {
   "cell_type": "markdown",
   "metadata": {},
   "source": [
    "#### Step 7: write some functions for making deposits and withdrawals.\n"
   ]
  },
  {
   "cell_type": "code",
   "execution_count": 16,
   "metadata": {},
   "outputs": [],
   "source": [
    "def m_deposit(cust, acc_type, acc_n, money):\n",
    "    for n in cust.acc[acc_type]:\n",
    "        if n.acc_n == acc_n:\n",
    "            n.deposit(money)"
   ]
  },
  {
   "cell_type": "code",
   "execution_count": 17,
   "metadata": {},
   "outputs": [],
   "source": [
    "m_deposit(nancy,'B',2018,67.45)"
   ]
  },
  {
   "cell_type": "code",
   "execution_count": 18,
   "metadata": {},
   "outputs": [
    {
     "name": "stdout",
     "output_type": "stream",
     "text": [
      "Bussiness Account #2018 : $8967.45\n",
      "total deposit : $8967.45\n"
     ]
    }
   ],
   "source": [
    "nancy.total_deposits()"
   ]
  },
  {
   "cell_type": "code",
   "execution_count": 19,
   "metadata": {},
   "outputs": [],
   "source": [
    "def m_withdraw(cust, acc_type, acc_n, money):\n",
    "    for n in cust.acc[acc_type]:\n",
    "        if n.acc_n == acc_n:\n",
    "            n.withdraw(money)"
   ]
  },
  {
   "cell_type": "code",
   "execution_count": 20,
   "metadata": {},
   "outputs": [
    {
     "name": "stdout",
     "output_type": "stream",
     "text": [
      "Not enough money!\n"
     ]
    }
   ],
   "source": [
    "m_withdraw(nancy,'B',2018,1000000)"
   ]
  },
  {
   "cell_type": "code",
   "execution_count": 21,
   "metadata": {},
   "outputs": [
    {
     "name": "stdout",
     "output_type": "stream",
     "text": [
      "Bussiness Account #2018 : $8967.45\n",
      "total deposit : $8967.45\n"
     ]
    }
   ],
   "source": [
    "nancy.total_deposits()"
   ]
  },
  {
   "cell_type": "code",
   "execution_count": 22,
   "metadata": {},
   "outputs": [
    {
     "name": "stdout",
     "output_type": "stream",
     "text": [
      "Bussiness Account #2018 : $8900.00\n",
      "total deposit : $8900.00\n"
     ]
    }
   ],
   "source": [
    "nancy = Customer('Nancy',2)\n",
    "nancy.open_business(2018,8900)\n",
    "nancy.total_deposits()"
   ]
  }
 ],
 "metadata": {
  "kernelspec": {
   "display_name": "Python 3",
   "language": "python",
   "name": "python3"
  },
  "language_info": {
   "codemirror_mode": {
    "name": "ipython",
    "version": 3
   },
   "file_extension": ".py",
   "mimetype": "text/x-python",
   "name": "python",
   "nbconvert_exporter": "python",
   "pygments_lexer": "ipython3",
   "version": "3.6.5"
  }
 },
 "nbformat": 4,
 "nbformat_minor": 2
}
