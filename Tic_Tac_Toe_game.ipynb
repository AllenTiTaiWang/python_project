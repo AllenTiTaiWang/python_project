{
 "cells": [
  {
   "cell_type": "markdown",
   "metadata": {},
   "source": [
    "# Milestone Project 1: Tic Tac Toe game"
   ]
  },
  {
   "cell_type": "markdown",
   "metadata": {},
   "source": [
    "**Step 1: Write a function that can print out a board. Set up your board as a list, where each index 1-9 corresponds with a number on a number pad, so you get a 3 by 3 board representation.**"
   ]
  },
  {
   "cell_type": "code",
   "execution_count": 1,
   "metadata": {},
   "outputs": [],
   "source": [
    "from IPython.display import clear_output\n",
    "\n",
    "def display_board(available, board):\n",
    "    clear_output()\n",
    "    print(\" Available       Game\\n\")\n",
    "    print(\" \" + a[7] + \" | \" + a[8] + \" | \" + a[9] + \"     \" + board[7] + \" | \" + board[8] + \" | \" + board[9] + \" \")\n",
    "    print(\"-----------   -----------\")\n",
    "    print(\" \" + a[4] + \" | \" + a[5] + \" | \" + a[6] + \"     \" + board[4] + \" | \" + board[5] + \" | \" + board[6] + \" \")\n",
    "    print(\"-----------   -----------\")\n",
    "    print(\" \" + a[1] + \" | \" + a[2] + \" | \" + a[3] + \"     \" + board[1] + \" | \" + board[2] + \" | \" + board[3] + \" \")"
   ]
  },
  {
   "cell_type": "markdown",
   "metadata": {},
   "source": [
    "**TEST Step 1:** run your function on a test version of the board list, and make adjustments as necessary"
   ]
  },
  {
   "cell_type": "code",
   "execution_count": 2,
   "metadata": {},
   "outputs": [
    {
     "name": "stdout",
     "output_type": "stream",
     "text": [
      " Available       Game\n",
      "\n",
      " 7 | 8 | 9     X | O | X \n",
      "-----------   -----------\n",
      " 4 | 5 | 6     O | X | O \n",
      "-----------   -----------\n",
      " 1 | 2 | 3     X | O | X \n"
     ]
    }
   ],
   "source": [
    "test_board = ['#','X','O','X','O','X','O','X','O','X']\n",
    "a = [str(num) for num in range(0,10)]\n",
    "display_board(a, test_board)"
   ]
  },
  {
   "cell_type": "markdown",
   "metadata": {},
   "source": [
    "**Step 2: Write a function that can take in a player input and assign their marker as 'X' or 'O'. Think about using *while* loops to continually ask until you get a correct answer.**"
   ]
  },
  {
   "cell_type": "code",
   "execution_count": 3,
   "metadata": {},
   "outputs": [],
   "source": [
    "def player_input():\n",
    "    player1 = \"\"\n",
    "    while not (player1 == 'X' or player1 == \"O\"):\n",
    "        player1 = input(\"Player1: Please pick a marker 'X' or 'O' : \").upper()\n",
    "    \n",
    "    if player1 == 'X':\n",
    "        return ('X', 'O')\n",
    "    else:\n",
    "        return ('O', 'X')"
   ]
  },
  {
   "cell_type": "markdown",
   "metadata": {},
   "source": [
    "**TEST Step 2:** run the function to make sure it returns the desired output"
   ]
  },
  {
   "cell_type": "code",
   "execution_count": 4,
   "metadata": {},
   "outputs": [
    {
     "name": "stdout",
     "output_type": "stream",
     "text": [
      "Player1: Please pick a marker 'X' or 'O' : x\n"
     ]
    },
    {
     "data": {
      "text/plain": [
       "('X', 'O')"
      ]
     },
     "execution_count": 4,
     "metadata": {},
     "output_type": "execute_result"
    }
   ],
   "source": [
    "player_input()"
   ]
  },
  {
   "cell_type": "markdown",
   "metadata": {},
   "source": [
    "**Step 3: Write a function that takes in the board list object, a marker ('X' or 'O'), and a desired position (number 1-9) and assigns it to the board.**"
   ]
  },
  {
   "cell_type": "code",
   "execution_count": 5,
   "metadata": {},
   "outputs": [],
   "source": [
    "def place_marker(available, board, marker, position):\n",
    "    board[position] = marker\n",
    "    available[position] = \" \""
   ]
  },
  {
   "cell_type": "markdown",
   "metadata": {},
   "source": [
    "**Step 4: Write a function that takes in a board and a mark (X or O) and then checks to see if that mark has won. **"
   ]
  },
  {
   "cell_type": "code",
   "execution_count": 7,
   "metadata": {},
   "outputs": [],
   "source": [
    "def win_check(board, mark):\n",
    "    if (board[1] == board[2] == board[3] == mark) or\\\n",
    "       (board[4] == board[5] == board[6] == mark) or\\\n",
    "       (board[7] == board[8] == board[9] == mark) or\\\n",
    "       (board[1] == board[4] == board[7] == mark) or\\\n",
    "       (board[2] == board[5] == board[8] == mark) or\\\n",
    "       (board[3] == board[6] == board[9] == mark) or\\\n",
    "       (board[3] == board[5] == board[7] == mark) or\\\n",
    "       (board[1] == board[5] == board[9] == mark):\n",
    "        return True\n",
    "    "
   ]
  },
  {
   "cell_type": "markdown",
   "metadata": {},
   "source": [
    "**TEST Step 4:** run the win_check function against our test_board - it should return True"
   ]
  },
  {
   "cell_type": "code",
   "execution_count": 8,
   "metadata": {},
   "outputs": [
    {
     "data": {
      "text/plain": [
       "True"
      ]
     },
     "execution_count": 8,
     "metadata": {},
     "output_type": "execute_result"
    }
   ],
   "source": [
    "win_check(test_board,'X')"
   ]
  },
  {
   "cell_type": "markdown",
   "metadata": {},
   "source": [
    "**Step 5: Write a function that uses the random module to randomly decide which player goes first. You may want to lookup random.randint() Return a string of which player went first.**"
   ]
  },
  {
   "cell_type": "code",
   "execution_count": 9,
   "metadata": {},
   "outputs": [],
   "source": [
    "import random\n",
    "\n",
    "def choose_first():\n",
    "    if random.randint(0, 1) == 0:\n",
    "        return \"Player1\"\n",
    "    else:\n",
    "        return \"Player2\""
   ]
  },
  {
   "cell_type": "markdown",
   "metadata": {},
   "source": [
    "**Step 6: Write a function that returns a boolean indicating whether a space on the board is freely available.**"
   ]
  },
  {
   "cell_type": "code",
   "execution_count": 10,
   "metadata": {},
   "outputs": [],
   "source": [
    "def space_check(board, position):\n",
    "    if board[position] is \" \":\n",
    "        return True\n",
    "    else:\n",
    "        return False"
   ]
  },
  {
   "cell_type": "markdown",
   "metadata": {},
   "source": [
    "**Step 7: Write a function that checks if the board is full and returns a boolean value. True if full, False otherwise.**"
   ]
  },
  {
   "cell_type": "code",
   "execution_count": 11,
   "metadata": {},
   "outputs": [],
   "source": [
    "def full_board_check(board):\n",
    "    for i in range(1, 10):\n",
    "        if space_check(board, i):\n",
    "            return False\n",
    "    else:\n",
    "        return True"
   ]
  },
  {
   "cell_type": "markdown",
   "metadata": {},
   "source": [
    "**Step 8: Write a function that asks for a player's next position (as a number 1-9) and then uses the function from step 6 to check if it's a free position. If it is, then return the position for later use.**"
   ]
  },
  {
   "cell_type": "code",
   "execution_count": 12,
   "metadata": {},
   "outputs": [],
   "source": [
    "def player_choice(board):\n",
    "    position = 0\n",
    "    while (position not in [1, 2, 3, 4, 5, 6, 7, 8, 9]) or not space_check(board, position):\n",
    "        position = int(input('Please enter a position 1-9 : '))\n",
    "    return position"
   ]
  },
  {
   "cell_type": "markdown",
   "metadata": {},
   "source": [
    "**Step 9: Write a function that asks the player if they want to play again and returns a boolean True if they do want to play again.**"
   ]
  },
  {
   "cell_type": "code",
   "execution_count": 13,
   "metadata": {},
   "outputs": [],
   "source": [
    "def replay():\n",
    "    again = \"\"\n",
    "    while not (again == 'YES' or again == 'NO'):\n",
    "        again = input('Do you want to play again? Enter Yes or No : ').upper()\n",
    "    if again == 'YES':\n",
    "        return True\n",
    "    else:\n",
    "        return False\n",
    "    "
   ]
  },
  {
   "cell_type": "markdown",
   "metadata": {
    "collapsed": true
   },
   "source": [
    "**Step 10: Here comes the hard part! Use while loops and the functions you've made to run the game!**"
   ]
  },
  {
   "cell_type": "code",
   "execution_count": 14,
   "metadata": {},
   "outputs": [
    {
     "name": "stdout",
     "output_type": "stream",
     "text": [
      " Available       Game\n",
      "\n",
      "   | 8 | 9     O |   |   \n",
      "-----------   -----------\n",
      "   |   |       X | O | X \n",
      "-----------   -----------\n",
      "   |   |       O | X | O \n",
      "Congratulations! Player2 has won the game!\n",
      "Do you want to play again? Enter Yes or No : no\n",
      "Thanks for playing Tic Tac Toe!\n"
     ]
    }
   ],
   "source": [
    "print('Welcome to Tic Tac Toe!')\n",
    "will = input('Do you want to play? Enter Yes or No : ').upper()\n",
    "\n",
    "if will == \"YES\":\n",
    "    game_on = True\n",
    "else:\n",
    "    game_on = False\n",
    "\n",
    "while game_on:\n",
    "    \n",
    "    # Set the game up here\n",
    "    marker_order = player_input()\n",
    "    a = [str(num) for num in range(0,10)]\n",
    "    board = ['#', ' ', ' ', ' ', ' ', ' ', ' ', ' ', ' ', ' ', ' ']\n",
    "    \n",
    "    if choose_first == \"Player1\":\n",
    "        print(\"Player1 go first!\")\n",
    "        Flag = True\n",
    "    else:\n",
    "        print(\"Player2 go first!\")\n",
    "        Flag = False\n",
    "    \n",
    "    while True:\n",
    "        \n",
    "        #Player 1 Turn\n",
    "        if Flag == True:\n",
    "            position = player_choice(board)\n",
    "            place_marker(a, board, marker_order[0], position)\n",
    "            Flag = False\n",
    "            display_board(a, board)\n",
    "            if win_check(board, marker_order[0]):\n",
    "                print(\"Congratulations! Player1 has won the game!\")\n",
    "                break\n",
    "            if full_board_check(board):\n",
    "                print(\"It's a tie.\")\n",
    "                break\n",
    "        \n",
    "        # Player2's turn.\n",
    "        if Flag == False:\n",
    "            position = player_choice(board)\n",
    "            place_marker(a, board, marker_order[1], position)\n",
    "            Flag = True\n",
    "            display_board(a, board)\n",
    "            if win_check(board, marker_order[1]):\n",
    "                print(\"Congratulations! Player2 has won the game!\")\n",
    "                break\n",
    "            if full_board_check(board):\n",
    "                print(\"It's a tie.\")\n",
    "                break\n",
    "    \n",
    "    if not replay():\n",
    "        break\n",
    "\n",
    "print('Thanks for playing Tic Tac Toe!')"
   ]
  }
 ],
 "metadata": {
  "kernelspec": {
   "display_name": "Python 3",
   "language": "python",
   "name": "python3"
  },
  "language_info": {
   "codemirror_mode": {
    "name": "ipython",
    "version": 3
   },
   "file_extension": ".py",
   "mimetype": "text/x-python",
   "name": "python",
   "nbconvert_exporter": "python",
   "pygments_lexer": "ipython3",
   "version": "3.6.5"
  }
 },
 "nbformat": 4,
 "nbformat_minor": 1
}
